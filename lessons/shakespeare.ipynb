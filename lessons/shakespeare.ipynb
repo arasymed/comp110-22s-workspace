{
 "cells": [
  {
   "cell_type": "markdown",
   "metadata": {},
   "source": [
    "# Processing Shakespeare \n",
    "Counting all the letters in shakespeare's works!\n",
    "\n",
    "First step is to read each line of the text file into a list of strings. "
   ]
  },
  {
   "cell_type": "markdown",
   "metadata": {},
   "source": [
    "### Notes\n",
    "./shakespeare.txt. The dot slash represents look at the current directory. \n",
    "- We need a way to access the file so we set up a fule handle with textiowrapper type. We need to open the file, so we open the file that we want. \n",
    "- There are different types of modes when we hover over file handle, we are openning to read it so we jut put \"r\" as a parameter. \n",
    "- Now that we opened we can read line by line with a code. This document is a sequence of lines starting from one. So we can write a for in loop.\n",
    "- The for in loop will read the next line from the file, store it in a string named line and we can use that.\n",
    "- Now we have everything on a list. \n",
    "- \\n means a new line. we do not want this to be here. So we can say line = line.strip() This will remove spaces, new lines on either side of the string. \n",
    "- We do not want there to be upper case characters since we want to count the number of characters and the frequency in which they are used. So we write line = line.lower()\n",
    "-[0:5] shows us the slice, a few lines that you want to see\n",
    "- \n"
   ]
  },
  {
   "cell_type": "code",
   "execution_count": 6,
   "metadata": {},
   "outputs": [
    {
     "name": "stdout",
     "output_type": "stream",
     "text": [
      "124194\n"
     ]
    }
   ],
   "source": [
    "from io import TextIOWrapper\n",
    "def read_lines(filename: str) -> list[str]:\n",
    "    \"\"\"Read a text file into a list of strings for each line.\"\"\"\n",
    "    lines: list[str] = []\n",
    "    file_handle: TextIoWrapper = open(filename, \"r\")\n",
    "    for line in file_handle:\n",
    "        line = line.strip()\n",
    "        line = line.lower()\n",
    "        lines.append(line)\n",
    "    return lines \n",
    "\n",
    "shakespeares_lines: list[str] = read_lines(\"./shakespeare.txt\")\n",
    "print(len(shakespeares_lines))"
   ]
  },
  {
   "cell_type": "code",
   "execution_count": 13,
   "metadata": {},
   "outputs": [
    {
     "name": "stdout",
     "output_type": "stream",
     "text": [
      "['1609', '', 'the sonnets', '', 'by william shakespeare']\n"
     ]
    }
   ],
   "source": [
    "# Example of \"Slice notation\"\n",
    "print(shakespeares_lines[0:5])"
   ]
  },
  {
   "cell_type": "markdown",
   "metadata": {},
   "source": [
    "The next step of our analysis is to count all letters in Shakespeare's complete body of work."
   ]
  },
  {
   "cell_type": "code",
   "execution_count": null,
   "metadata": {},
   "outputs": [],
   "source": [
    "# Write a function named `tally`: \n",
    "# Given a reference to a dictionary, and a key (of type str): \n",
    "# Increase the value stored at the key by 1 if the key exists \n",
    "# Otherwise set key's initial value to zero. \n",
    "#Function that returns None\n",
    "def tally(counts: dict[str, int], key: str) -> None:\n",
    "    \"\"\"Mutate counts by incrementing value stored at key by 1.\"\"\"\n",
    "    if key in counts:\n",
    "        counts[key] += 1 \n",
    "    else:\n",
    "        counts[key] = 1 \n",
    "    \n",
    "def count_letters(lines: list[str]) -> dict[str, int]:\n",
    "    \"\"\"Count the frequency of all letters in a list of strings.\"\"\"\n",
    "    counts: dict[str, int] = {}\n",
    "    # Try looping through each line in  `lines`\n",
    "    #Then loop through each char in the line.\n",
    "    return counts"
   ]
  }
 ],
 "metadata": {
  "interpreter": {
   "hash": "aee8b7b246df8f9039afb4144a1f6fd8d2ca17a180786b69acc140d282b71a49"
  },
  "kernelspec": {
   "display_name": "Python 3.10.1 64-bit",
   "language": "python",
   "name": "python3"
  },
  "language_info": {
   "codemirror_mode": {
    "name": "ipython",
    "version": 3
   },
   "file_extension": ".py",
   "mimetype": "text/x-python",
   "name": "python",
   "nbconvert_exporter": "python",
   "pygments_lexer": "ipython3",
   "version": "3.10.1"
  },
  "orig_nbformat": 4
 },
 "nbformat": 4,
 "nbformat_minor": 2
}
